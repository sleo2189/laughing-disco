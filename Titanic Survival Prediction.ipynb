{
 "cells": [
  {
   "cell_type": "markdown",
   "id": "aab342c6-b38e-4883-a986-2b1e50cc4a06",
   "metadata": {},
   "source": [
    "### Titanic Survival Prediction: \n",
    "This is a classic machine learning project that's great for beginners. You'll work with a dataset of Titanic passengers to predict who survived. This project helps you practice data cleaning, exploratory data analysis (EDA), and building a simple classification model."
   ]
  },
  {
   "cell_type": "markdown",
   "id": "b083f0c9-8445-4c7a-8a4a-372edeeb8552",
   "metadata": {},
   "source": [
    "# 1. Project Setup and Data Loading\n",
    "The first step is to import the necessary libraries and load the dataset. The Titanic dataset is available on Kaggle. You'll typically have two files: train.csv (for training your model) and test.csv (for making predictions)."
   ]
  },
  {
   "cell_type": "code",
   "execution_count": 3,
   "id": "9ad4048f-dfbd-4e1f-830f-d42e86bce703",
   "metadata": {},
   "outputs": [],
   "source": [
    "import pandas as pd\n",
    "import numpy as np\n",
    "import seaborn as sns\n",
    "import matplotlib.pyplot as plt\n",
    "\n",
    "from sklearn.model_selection import train_test_split\n",
    "from sklearn.ensemble import RandomForestClassifier\n",
    "from sklearn.metrics import accuracy_score"
   ]
  },
  {
   "cell_type": "code",
   "execution_count": 4,
   "id": "5f4149bd-be43-4a52-8834-8873fb2e1039",
   "metadata": {},
   "outputs": [],
   "source": [
    "# loading datasets\n",
    "\n",
    "train_df = pd.read_csv('train.csv')\n",
    "test_df = pd.read_csv('test.csv')"
   ]
  },
  {
   "cell_type": "code",
   "execution_count": 5,
   "id": "77a5b9f2-ec87-49a8-a323-c51ce509c72c",
   "metadata": {
    "scrolled": true
   },
   "outputs": [
    {
     "name": "stdout",
     "output_type": "stream",
     "text": [
      "    PassengerId  Survived  Pclass  \\\n",
      "0             1         0       3   \n",
      "1             2         1       1   \n",
      "2             3         1       3   \n",
      "3             4         1       1   \n",
      "4             5         0       3   \n",
      "5             6         0       3   \n",
      "6             7         0       1   \n",
      "7             8         0       3   \n",
      "8             9         1       3   \n",
      "9            10         1       2   \n",
      "10           11         1       3   \n",
      "11           12         1       1   \n",
      "12           13         0       3   \n",
      "13           14         0       3   \n",
      "14           15         0       3   \n",
      "15           16         1       2   \n",
      "16           17         0       3   \n",
      "17           18         1       2   \n",
      "18           19         0       3   \n",
      "19           20         1       3   \n",
      "20           21         0       2   \n",
      "21           22         1       2   \n",
      "22           23         1       3   \n",
      "23           24         1       1   \n",
      "24           25         0       3   \n",
      "25           26         1       3   \n",
      "26           27         0       3   \n",
      "27           28         0       1   \n",
      "28           29         1       3   \n",
      "29           30         0       3   \n",
      "30           31         0       1   \n",
      "31           32         1       1   \n",
      "32           33         1       3   \n",
      "33           34         0       2   \n",
      "34           35         0       1   \n",
      "35           36         0       1   \n",
      "36           37         1       3   \n",
      "37           38         0       3   \n",
      "38           39         0       3   \n",
      "39           40         1       3   \n",
      "40           41         0       3   \n",
      "41           42         0       2   \n",
      "42           43         0       3   \n",
      "43           44         1       2   \n",
      "44           45         1       3   \n",
      "45           46         0       3   \n",
      "46           47         0       3   \n",
      "47           48         1       3   \n",
      "48           49         0       3   \n",
      "49           50         0       3   \n",
      "\n",
      "                                                 Name     Sex   Age  SibSp  \\\n",
      "0                             Braund, Mr. Owen Harris    male  22.0      1   \n",
      "1   Cumings, Mrs. John Bradley (Florence Briggs Th...  female  38.0      1   \n",
      "2                              Heikkinen, Miss. Laina  female  26.0      0   \n",
      "3        Futrelle, Mrs. Jacques Heath (Lily May Peel)  female  35.0      1   \n",
      "4                            Allen, Mr. William Henry    male  35.0      0   \n",
      "5                                    Moran, Mr. James    male   NaN      0   \n",
      "6                             McCarthy, Mr. Timothy J    male  54.0      0   \n",
      "7                      Palsson, Master. Gosta Leonard    male   2.0      3   \n",
      "8   Johnson, Mrs. Oscar W (Elisabeth Vilhelmina Berg)  female  27.0      0   \n",
      "9                 Nasser, Mrs. Nicholas (Adele Achem)  female  14.0      1   \n",
      "10                    Sandstrom, Miss. Marguerite Rut  female   4.0      1   \n",
      "11                           Bonnell, Miss. Elizabeth  female  58.0      0   \n",
      "12                     Saundercock, Mr. William Henry    male  20.0      0   \n",
      "13                        Andersson, Mr. Anders Johan    male  39.0      1   \n",
      "14               Vestrom, Miss. Hulda Amanda Adolfina  female  14.0      0   \n",
      "15                   Hewlett, Mrs. (Mary D Kingcome)   female  55.0      0   \n",
      "16                               Rice, Master. Eugene    male   2.0      4   \n",
      "17                       Williams, Mr. Charles Eugene    male   NaN      0   \n",
      "18  Vander Planke, Mrs. Julius (Emelia Maria Vande...  female  31.0      1   \n",
      "19                            Masselmani, Mrs. Fatima  female   NaN      0   \n",
      "20                               Fynney, Mr. Joseph J    male  35.0      0   \n",
      "21                              Beesley, Mr. Lawrence    male  34.0      0   \n",
      "22                        McGowan, Miss. Anna \"Annie\"  female  15.0      0   \n",
      "23                       Sloper, Mr. William Thompson    male  28.0      0   \n",
      "24                      Palsson, Miss. Torborg Danira  female   8.0      3   \n",
      "25  Asplund, Mrs. Carl Oscar (Selma Augusta Emilia...  female  38.0      1   \n",
      "26                            Emir, Mr. Farred Chehab    male   NaN      0   \n",
      "27                     Fortune, Mr. Charles Alexander    male  19.0      3   \n",
      "28                      O'Dwyer, Miss. Ellen \"Nellie\"  female   NaN      0   \n",
      "29                                Todoroff, Mr. Lalio    male   NaN      0   \n",
      "30                           Uruchurtu, Don. Manuel E    male  40.0      0   \n",
      "31     Spencer, Mrs. William Augustus (Marie Eugenie)  female   NaN      1   \n",
      "32                           Glynn, Miss. Mary Agatha  female   NaN      0   \n",
      "33                              Wheadon, Mr. Edward H    male  66.0      0   \n",
      "34                            Meyer, Mr. Edgar Joseph    male  28.0      1   \n",
      "35                     Holverson, Mr. Alexander Oskar    male  42.0      1   \n",
      "36                                   Mamee, Mr. Hanna    male   NaN      0   \n",
      "37                           Cann, Mr. Ernest Charles    male  21.0      0   \n",
      "38                 Vander Planke, Miss. Augusta Maria  female  18.0      2   \n",
      "39                        Nicola-Yarred, Miss. Jamila  female  14.0      1   \n",
      "40     Ahlin, Mrs. Johan (Johanna Persdotter Larsson)  female  40.0      1   \n",
      "41  Turpin, Mrs. William John Robert (Dorothy Ann ...  female  27.0      1   \n",
      "42                                Kraeff, Mr. Theodor    male   NaN      0   \n",
      "43           Laroche, Miss. Simonne Marie Anne Andree  female   3.0      1   \n",
      "44                      Devaney, Miss. Margaret Delia  female  19.0      0   \n",
      "45                           Rogers, Mr. William John    male   NaN      0   \n",
      "46                                  Lennon, Mr. Denis    male   NaN      1   \n",
      "47                          O'Driscoll, Miss. Bridget  female   NaN      0   \n",
      "48                                Samaan, Mr. Youssef    male   NaN      2   \n",
      "49      Arnold-Franchi, Mrs. Josef (Josefine Franchi)  female  18.0      1   \n",
      "\n",
      "    Parch            Ticket      Fare        Cabin Embarked  \n",
      "0       0         A/5 21171    7.2500          NaN        S  \n",
      "1       0          PC 17599   71.2833          C85        C  \n",
      "2       0  STON/O2. 3101282    7.9250          NaN        S  \n",
      "3       0            113803   53.1000         C123        S  \n",
      "4       0            373450    8.0500          NaN        S  \n",
      "5       0            330877    8.4583          NaN        Q  \n",
      "6       0             17463   51.8625          E46        S  \n",
      "7       1            349909   21.0750          NaN        S  \n",
      "8       2            347742   11.1333          NaN        S  \n",
      "9       0            237736   30.0708          NaN        C  \n",
      "10      1           PP 9549   16.7000           G6        S  \n",
      "11      0            113783   26.5500         C103        S  \n",
      "12      0         A/5. 2151    8.0500          NaN        S  \n",
      "13      5            347082   31.2750          NaN        S  \n",
      "14      0            350406    7.8542          NaN        S  \n",
      "15      0            248706   16.0000          NaN        S  \n",
      "16      1            382652   29.1250          NaN        Q  \n",
      "17      0            244373   13.0000          NaN        S  \n",
      "18      0            345763   18.0000          NaN        S  \n",
      "19      0              2649    7.2250          NaN        C  \n",
      "20      0            239865   26.0000          NaN        S  \n",
      "21      0            248698   13.0000          D56        S  \n",
      "22      0            330923    8.0292          NaN        Q  \n",
      "23      0            113788   35.5000           A6        S  \n",
      "24      1            349909   21.0750          NaN        S  \n",
      "25      5            347077   31.3875          NaN        S  \n",
      "26      0              2631    7.2250          NaN        C  \n",
      "27      2             19950  263.0000  C23 C25 C27        S  \n",
      "28      0            330959    7.8792          NaN        Q  \n",
      "29      0            349216    7.8958          NaN        S  \n",
      "30      0          PC 17601   27.7208          NaN        C  \n",
      "31      0          PC 17569  146.5208          B78        C  \n",
      "32      0            335677    7.7500          NaN        Q  \n",
      "33      0        C.A. 24579   10.5000          NaN        S  \n",
      "34      0          PC 17604   82.1708          NaN        C  \n",
      "35      0            113789   52.0000          NaN        S  \n",
      "36      0              2677    7.2292          NaN        C  \n",
      "37      0        A./5. 2152    8.0500          NaN        S  \n",
      "38      0            345764   18.0000          NaN        S  \n",
      "39      0              2651   11.2417          NaN        C  \n",
      "40      0              7546    9.4750          NaN        S  \n",
      "41      0             11668   21.0000          NaN        S  \n",
      "42      0            349253    7.8958          NaN        C  \n",
      "43      2     SC/Paris 2123   41.5792          NaN        C  \n",
      "44      0            330958    7.8792          NaN        Q  \n",
      "45      0   S.C./A.4. 23567    8.0500          NaN        S  \n",
      "46      0            370371   15.5000          NaN        Q  \n",
      "47      0             14311    7.7500          NaN        Q  \n",
      "48      0              2662   21.6792          NaN        C  \n",
      "49      0            349237   17.8000          NaN        S  \n"
     ]
    }
   ],
   "source": [
    "# display first two rows to understand the data \n",
    "\n",
    "print(train_df.head(50))"
   ]
  },
  {
   "cell_type": "markdown",
   "id": "081f331c-1c96-493f-a498-184bdbac67fb",
   "metadata": {},
   "source": [
    "# 2. Exploratory Data Analysis (EDA)\n",
    "Before building a model, it's crucial to understand the data. This involves checking for missing values, understanding the distribution of features, and visualizing relationships."
   ]
  },
  {
   "cell_type": "code",
   "execution_count": 7,
   "id": "d0399680-9337-4e27-b322-6a71fb2e3060",
   "metadata": {},
   "outputs": [
    {
     "name": "stdout",
     "output_type": "stream",
     "text": [
      "PassengerId      0\n",
      "Survived         0\n",
      "Pclass           0\n",
      "Name             0\n",
      "Sex              0\n",
      "Age            177\n",
      "SibSp            0\n",
      "Parch            0\n",
      "Ticket           0\n",
      "Fare             0\n",
      "Cabin          687\n",
      "Embarked         2\n",
      "dtype: int64\n"
     ]
    }
   ],
   "source": [
    "# check for missing values\n",
    "\n",
    "print(train_df.isnull().sum())"
   ]
  },
  {
   "cell_type": "code",
   "execution_count": 8,
   "id": "7632d67e-7c93-4379-a52a-4e39b0c6b34e",
   "metadata": {},
   "outputs": [
    {
     "data": {
      "image/png": "[encoded data removed]",
      "text/plain": [
       "<Figure size 640x480 with 1 Axes>"
      ]
     },
     "metadata": {},
     "output_type": "display_data"
    }
   ],
   "source": [
    "# visualizing survival rate by 'sex'\n",
    "\n",
    "sns.barplot(x = 'Sex', y = 'Survived', data = train_df)\n",
    "plt.title('Survival Rate by Gender')\n",
    "plt.show()"
   ]
  },
  {
   "cell_type": "code",
   "execution_count": 9,
   "id": "12079240-c758-450c-b180-56def421f736",
   "metadata": {},
   "outputs": [
    {
     "data": {
      "image/png": "[encoded data removed]",
      "text/plain": [
       "<Figure size 640x480 with 1 Axes>"
      ]
     },
     "metadata": {},
     "output_type": "display_data"
    }
   ],
   "source": [
    "# visualizing survival rate by 'pclass' (Passanger Class)\n",
    "\n",
    "sns.barplot(x = 'Pclass', y = 'Survived', data = train_df)\n",
    "plt.title('Survival Rate by Passenger Class')\n",
    "plt.show()"
   ]
  },
  {
   "cell_type": "markdown",
   "id": "9c0ce0ea-429a-4718-961e-fdf21a60d595",
   "metadata": {},
   "source": [
    "# 3. Data Cleaning and Feature Engineering\n",
    "Data in the real world is messy. You'll need to handle missing values, convert categorical data into a numerical format, and create new features that could improve your model's performance."
   ]
  },
  {
   "cell_type": "code",
   "execution_count": 25,
   "id": "8eafc29d-67d3-4d82-b945-425c92844999",
   "metadata": {},
   "outputs": [
    {
     "name": "stderr",
     "output_type": "stream",
     "text": [
      "/var/folders/lt/c615nwld1fd_460g13mry6sh0000gn/T/ipykernel_4775/666958389.py:3: FutureWarning: A value is trying to be set on a copy of a DataFrame or Series through chained assignment using an inplace method.\n",
      "The behavior will change in pandas 3.0. This inplace method will never work because the intermediate object on which we are setting values always behaves as a copy.\n",
      "\n",
      "For example, when doing 'df[col].method(value, inplace=True)', try using 'df.method({col: value}, inplace=True)' or df[col] = df[col].method(value) instead, to perform the operation inplace on the original object.\n",
      "\n",
      "\n",
      "  train_df['Age'].fillna(train_df['Age'].median(), inplace = True)\n",
      "/var/folders/lt/c615nwld1fd_460g13mry6sh0000gn/T/ipykernel_4775/666958389.py:4: FutureWarning: A value is trying to be set on a copy of a DataFrame or Series through chained assignment using an inplace method.\n",
      "The behavior will change in pandas 3.0. This inplace method will never work because the intermediate object on which we are setting values always behaves as a copy.\n",
      "\n",
      "For example, when doing 'df[col].method(value, inplace=True)', try using 'df.method({col: value}, inplace=True)' or df[col] = df[col].method(value) instead, to perform the operation inplace on the original object.\n",
      "\n",
      "\n",
      "  test_df['Age'].fillna(test_df['Age'].median(), inplace = True)\n",
      "/var/folders/lt/c615nwld1fd_460g13mry6sh0000gn/T/ipykernel_4775/666958389.py:13: FutureWarning: A value is trying to be set on a copy of a DataFrame or Series through chained assignment using an inplace method.\n",
      "The behavior will change in pandas 3.0. This inplace method will never work because the intermediate object on which we are setting values always behaves as a copy.\n",
      "\n",
      "For example, when doing 'df[col].method(value, inplace=True)', try using 'df.method({col: value}, inplace=True)' or df[col] = df[col].method(value) instead, to perform the operation inplace on the original object.\n",
      "\n",
      "\n",
      "  test_df['Fare'].fillna(test_df['Fare'].median(), inplace = True)\n"
     ]
    }
   ],
   "source": [
    "# handling missing 'Age' values by fillng it with median\n",
    "\n",
    "train_df['Age'].fillna(train_df['Age'].median(), inplace = True)\n",
    "test_df['Age'].fillna(test_df['Age'].median(), inplace = True)\n",
    "\n",
    "# handling missing 'Embarke' values by filling it wiht mode\n",
    "\n",
    "train_df['Embarked'].fillna(train_df['Embarked'].mode()[0], inplace = True)\n",
    "\n",
    "# handling missing 'Fare' values in the test set filling it with median\n",
    "\n",
    "# This is the correct code\n",
    "test_df['Fare'].fillna(test_df['Fare'].median(), inplace = True)"
   ]
  },
  {
   "cell_type": "code",
   "execution_count": 27,
   "id": "08db68dd-3aee-4e54-b597-33be41032793",
   "metadata": {},
   "outputs": [],
   "source": [
    "# convert 'sex' to numerical values\n",
    "\n",
    "train_df['Sex'] = train_df['Sex'].map({'male' : 0, 'female' : 1})\n",
    "test_df['Sex'] = test_df['Sex'].map({'male' : 0, 'female' : 1})"
   ]
  },
  {
   "cell_type": "code",
   "execution_count": 29,
   "id": "7c5b3d09-9bd4-4daa-988f-ed65ba7a30b2",
   "metadata": {},
   "outputs": [],
   "source": [
    "# create a 'FamilySize' feature\n",
    "\n",
    "train_df['FamilySize'] = train_df['SibSp'] + train_df['Parch'] + 1\n",
    "test_df['FamilySize'] = test_df['SibSp'] + test_df['Parch'] + 1"
   ]
  },
  {
   "cell_type": "code",
   "execution_count": 31,
   "id": "3826fd2e-3d42-41ea-bcec-eda81a8cb8c0",
   "metadata": {},
   "outputs": [],
   "source": [
    "# One-hot encode the 'Embarked' and 'Pclass' features\n",
    "\n",
    "train_df = pd.get_dummies(train_df, columns = ['Embarked', 'Pclass'], drop_first = True)\n",
    "test_df = pd.get_dummies(test_df, columns = ['Embarked', 'Pclass'], drop_first = True)"
   ]
  },
  {
   "cell_type": "code",
   "execution_count": 33,
   "id": "6d12f7df-a2d7-4b5c-9261-8fd8a5655c1c",
   "metadata": {},
   "outputs": [],
   "source": [
    "# dropping columns that are not needed for the model\n",
    "\n",
    "train_df.drop(['Name', 'Ticket', 'Cabin', 'PassengerId', 'SibSp', 'Parch'], axis = 1, inplace = True)\n",
    "test_df.drop(['Name', 'Ticket', 'Cabin', 'PassengerId', 'SibSp', 'Parch'], axis = 1, inplace = True)"
   ]
  },
  {
   "cell_type": "markdown",
   "id": "5e8849fa-dcb6-4d75-b4d4-d90f66bd540b",
   "metadata": {},
   "source": [
    "# 4. Model Training and Evaluation\n",
    "With the data ready, you can now train a machine learning model. A Random Forest Classifier is a good choice for this type of problem as it often performs well out-of-the-box."
   ]
  },
  {
   "cell_type": "code",
   "execution_count": 36,
   "id": "283a736c-1927-4178-badd-4e03bab0a643",
   "metadata": {},
   "outputs": [
    {
     "name": "stdout",
     "output_type": "stream",
     "text": [
      "Model Accuracy on Validation Set : 0.82\n"
     ]
    }
   ],
   "source": [
    "# define features (X) and target (y)\n",
    "X = train_df.drop('Survived', axis = 1)\n",
    "y = train_df['Survived']\n",
    "\n",
    "# Split data into 'Training' and 'Validation' sets\n",
    "X_train, X_val, y_train, y_val = train_test_split(X, y, test_size = 0.2, random_state = 42)\n",
    "\n",
    "# Initialize and train the Random Forest Model\n",
    "model = RandomForestClassifier(n_estimators = 100, random_state = 42)\n",
    "model.fit(X_train, y_train)\n",
    "\n",
    "# make predictions on the validation set and evaluate\n",
    "val_preds = model.predict(X_val)\n",
    "accuracy = accuracy_score(y_val, val_preds)\n",
    "print(f'Model Accuracy on Validation Set : {accuracy :.2f}')"
   ]
  },
  {
   "cell_type": "markdown",
   "id": "c4d099ff-1f74-4189-be4d-8743bd207180",
   "metadata": {},
   "source": [
    "# 5. Final Predictions and Submission File"
   ]
  },
  {
   "cell_type": "code",
   "execution_count": 39,
   "id": "baeeb470-0675-4467-86c6-8097bbcf969b",
   "metadata": {},
   "outputs": [
    {
     "name": "stdout",
     "output_type": "stream",
     "text": [
      "Submission file created successfully!\n"
     ]
    }
   ],
   "source": [
    "# Store PassengerId from the original test file\n",
    "test_passenger_ids = pd.read_csv('test.csv')['PassengerId']\n",
    "\n",
    "# Make predictions on the test set\n",
    "test_preds = model.predict(test_df.drop('PassengerId', axis = 1, errors = 'ignore'))\n",
    "\n",
    "# Create the submission DataFrame\n",
    "submission_df = pd.DataFrame({\n",
    "    'PassengerId': test_passenger_ids,\n",
    "    'Survived': test_preds\n",
    "})\n",
    "\n",
    "# Save the submission file as a CSV\n",
    "submission_df.to_csv('submission.csv', index = False)\n",
    "\n",
    "print('Submission file created successfully!')"
   ]
  },
  {
   "cell_type": "code",
   "execution_count": null,
   "id": "573ca9bb-a97c-4f6f-ad6c-a4dd80ea14be",
   "metadata": {},
   "outputs": [],
   "source": []
  }
 ],
 "metadata": {
  "kernelspec": {
   "display_name": "Python [conda env:base] *",
   "language": "python",
   "name": "conda-base-py"
  },
  "language_info": {
   "codemirror_mode": {
    "name": "ipython",
    "version": 3
   },
   "file_extension": ".py",
   "mimetype": "text/x-python",
   "name": "python",
   "nbconvert_exporter": "python",
   "pygments_lexer": "ipython3",
   "version": "3.12.7"
  }
 },
 "nbformat": 4,
 "nbformat_minor": 5
}
